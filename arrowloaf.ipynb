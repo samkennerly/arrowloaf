{
 "cells": [
  {
   "cell_type": "code",
   "execution_count": 1,
   "metadata": {},
   "outputs": [
    {
     "data": {
      "application/javascript": [
       "IPython.notebook.set_autosave_interval(0)"
      ]
     },
     "metadata": {},
     "output_type": "display_data"
    },
    {
     "name": "stdout",
     "output_type": "stream",
     "text": [
      "Autosave disabled\n"
     ]
    }
   ],
   "source": [
    "%autosave 0\n",
    "%load_ext autoreload\n",
    "%autoreload 2"
   ]
  },
  {
   "cell_type": "markdown",
   "metadata": {},
   "source": [
    "## ArrowLoaf"
   ]
  },
  {
   "cell_type": "code",
   "execution_count": 2,
   "metadata": {},
   "outputs": [],
   "source": [
    "from pathlib import Path\n",
    "from arrowloaf import ArrowLoaf"
   ]
  },
  {
   "cell_type": "code",
   "execution_count": 3,
   "metadata": {},
   "outputs": [],
   "source": [
    "FOLDER = Path('~/data/Loaf').expanduser()\n",
    "CHUNKS = FOLDER/'Chunks'\n",
    "INPATH = FOLDER/'names.parquet'\n",
    "OUTPATH = FOLDER/'clone.parquet'"
   ]
  },
  {
   "cell_type": "code",
   "execution_count": 4,
   "metadata": {
    "scrolled": false
   },
   "outputs": [
    {
     "name": "stdout",
     "output_type": "stream",
     "text": [
      "\n",
      "    Query, read, and save Parquet tables using pandas and pyarrow.\n",
      "\n",
      "    Inputs\n",
      "        data    ArrowLoaf, DataFrame, RecordBatch, Series, Table\n",
      "                OR any valid DataFrame input.\n",
      "        index   bool: Keep index column? (Ignored for non-pandas input.)\n",
      "\n",
      "    Magic\n",
      "        self[key]   pyarrow.Column: Selected column.\n",
      "        iter(self)  iterator: Column names.\n",
      "        len(self)   int: Count rows in table.\n",
      "\n",
      "    Example\n",
      "        path = '/path/to/data.parquet'\n",
      "        data = ArrowLoaf.read(path,columns=['spam','eggs'])\n",
      "        data = data.query('spam > 0 and eggs > 42',chunksize=100_000)\n",
      "        data.frame().to_csv('path/to/newdata.csv')\n",
      "    \n"
     ]
    }
   ],
   "source": [
    "print(ArrowLoaf.__doc__)"
   ]
  },
  {
   "cell_type": "markdown",
   "metadata": {},
   "source": [
    "## build an ArrowLoaf"
   ]
  },
  {
   "cell_type": "code",
   "execution_count": 5,
   "metadata": {},
   "outputs": [
    {
     "data": {
      "text/html": [
       "<div>\n",
       "<style scoped>\n",
       "    .dataframe tbody tr th:only-of-type {\n",
       "        vertical-align: middle;\n",
       "    }\n",
       "\n",
       "    .dataframe tbody tr th {\n",
       "        vertical-align: top;\n",
       "    }\n",
       "\n",
       "    .dataframe thead th {\n",
       "        text-align: right;\n",
       "    }\n",
       "</style>\n",
       "<table border=\"1\" class=\"dataframe\">\n",
       "  <thead>\n",
       "    <tr style=\"text-align: right;\">\n",
       "      <th></th>\n",
       "    </tr>\n",
       "  </thead>\n",
       "  <tbody>\n",
       "  </tbody>\n",
       "</table>\n",
       "</div>"
      ],
      "text/plain": [
       "Empty DataFrame\n",
       "Columns: []\n",
       "Index: []"
      ]
     },
     "execution_count": 5,
     "metadata": {},
     "output_type": "execute_result"
    }
   ],
   "source": [
    "# from nothing\n",
    "ArrowLoaf().frame()"
   ]
  },
  {
   "cell_type": "code",
   "execution_count": 6,
   "metadata": {},
   "outputs": [
    {
     "data": {
      "text/html": [
       "<div>\n",
       "<style scoped>\n",
       "    .dataframe tbody tr th:only-of-type {\n",
       "        vertical-align: middle;\n",
       "    }\n",
       "\n",
       "    .dataframe tbody tr th {\n",
       "        vertical-align: top;\n",
       "    }\n",
       "\n",
       "    .dataframe thead th {\n",
       "        text-align: right;\n",
       "    }\n",
       "</style>\n",
       "<table border=\"1\" class=\"dataframe\">\n",
       "  <thead>\n",
       "    <tr style=\"text-align: right;\">\n",
       "      <th></th>\n",
       "      <th>name</th>\n",
       "      <th>quest</th>\n",
       "    </tr>\n",
       "  </thead>\n",
       "  <tbody>\n",
       "    <tr>\n",
       "      <th>0</th>\n",
       "      <td>Arthur</td>\n",
       "      <td>grail</td>\n",
       "    </tr>\n",
       "    <tr>\n",
       "      <th>1</th>\n",
       "      <td>Lancelot</td>\n",
       "      <td>grail</td>\n",
       "    </tr>\n",
       "    <tr>\n",
       "      <th>2</th>\n",
       "      <td>Knight</td>\n",
       "      <td>ni!</td>\n",
       "    </tr>\n",
       "  </tbody>\n",
       "</table>\n",
       "</div>"
      ],
      "text/plain": [
       "       name  quest\n",
       "0    Arthur  grail\n",
       "1  Lancelot  grail\n",
       "2    Knight    ni!"
      ]
     },
     "execution_count": 6,
     "metadata": {},
     "output_type": "execute_result"
    }
   ],
   "source": [
    "# from any valid DataFrame input\n",
    "data = dict()\n",
    "data['name'] = ['Arthur','Lancelot','Knight']\n",
    "data['quest'] = ['grail','grail','ni!']\n",
    "data = ArrowLoaf(data)\n",
    "data.frame()"
   ]
  },
  {
   "cell_type": "code",
   "execution_count": 7,
   "metadata": {},
   "outputs": [
    {
     "data": {
      "text/html": [
       "<div>\n",
       "<style scoped>\n",
       "    .dataframe tbody tr th:only-of-type {\n",
       "        vertical-align: middle;\n",
       "    }\n",
       "\n",
       "    .dataframe tbody tr th {\n",
       "        vertical-align: top;\n",
       "    }\n",
       "\n",
       "    .dataframe thead th {\n",
       "        text-align: right;\n",
       "    }\n",
       "</style>\n",
       "<table border=\"1\" class=\"dataframe\">\n",
       "  <thead>\n",
       "    <tr style=\"text-align: right;\">\n",
       "      <th></th>\n",
       "      <th>quest</th>\n",
       "    </tr>\n",
       "    <tr>\n",
       "      <th>name</th>\n",
       "      <th></th>\n",
       "    </tr>\n",
       "  </thead>\n",
       "  <tbody>\n",
       "    <tr>\n",
       "      <th>Arthur</th>\n",
       "      <td>grail</td>\n",
       "    </tr>\n",
       "    <tr>\n",
       "      <th>Lancelot</th>\n",
       "      <td>grail</td>\n",
       "    </tr>\n",
       "    <tr>\n",
       "      <th>Knight</th>\n",
       "      <td>ni!</td>\n",
       "    </tr>\n",
       "  </tbody>\n",
       "</table>\n",
       "</div>"
      ],
      "text/plain": [
       "          quest\n",
       "name           \n",
       "Arthur    grail\n",
       "Lancelot  grail\n",
       "Knight      ni!"
      ]
     },
     "execution_count": 7,
     "metadata": {},
     "output_type": "execute_result"
    }
   ],
   "source": [
    "# from DataFrame with index\n",
    "ixdata = data.frame().set_index('name')\n",
    "ixdata = ArrowLoaf(ixdata,index=True)\n",
    "ixdata.frame()"
   ]
  },
  {
   "cell_type": "markdown",
   "metadata": {},
   "source": [
    "## inspect data"
   ]
  },
  {
   "cell_type": "code",
   "execution_count": 8,
   "metadata": {},
   "outputs": [
    {
     "name": "stdout",
     "output_type": "stream",
     "text": [
      "ArrowLoaf\n",
      "3 x 2\n",
      "name: string\n",
      "quest: string\n"
     ]
    }
   ],
   "source": [
    "print(data)"
   ]
  },
  {
   "cell_type": "code",
   "execution_count": 9,
   "metadata": {},
   "outputs": [
    {
     "data": {
      "text/html": [
       "<div>\n",
       "<style scoped>\n",
       "    .dataframe tbody tr th:only-of-type {\n",
       "        vertical-align: middle;\n",
       "    }\n",
       "\n",
       "    .dataframe tbody tr th {\n",
       "        vertical-align: top;\n",
       "    }\n",
       "\n",
       "    .dataframe thead th {\n",
       "        text-align: right;\n",
       "    }\n",
       "</style>\n",
       "<table border=\"1\" class=\"dataframe\">\n",
       "  <thead>\n",
       "    <tr style=\"text-align: right;\">\n",
       "      <th></th>\n",
       "      <th>name</th>\n",
       "      <th>quest</th>\n",
       "    </tr>\n",
       "  </thead>\n",
       "  <tbody>\n",
       "    <tr>\n",
       "      <th>0</th>\n",
       "      <td>Arthur</td>\n",
       "      <td>grail</td>\n",
       "    </tr>\n",
       "    <tr>\n",
       "      <th>1</th>\n",
       "      <td>Lancelot</td>\n",
       "      <td>grail</td>\n",
       "    </tr>\n",
       "  </tbody>\n",
       "</table>\n",
       "</div>"
      ],
      "text/plain": [
       "       name  quest\n",
       "0    Arthur  grail\n",
       "1  Lancelot  grail"
      ]
     },
     "execution_count": 9,
     "metadata": {},
     "output_type": "execute_result"
    }
   ],
   "source": [
    "data.head(2)"
   ]
  },
  {
   "cell_type": "code",
   "execution_count": 10,
   "metadata": {},
   "outputs": [
    {
     "data": {
      "text/plain": [
       "['name', 'quest']"
      ]
     },
     "execution_count": 10,
     "metadata": {},
     "output_type": "execute_result"
    }
   ],
   "source": [
    "data.columns"
   ]
  },
  {
   "cell_type": "code",
   "execution_count": 11,
   "metadata": {},
   "outputs": [
    {
     "data": {
      "text/plain": [
       "(3, 2)"
      ]
     },
     "execution_count": 11,
     "metadata": {},
     "output_type": "execute_result"
    }
   ],
   "source": [
    "data.shape"
   ]
  },
  {
   "cell_type": "markdown",
   "metadata": {},
   "source": [
    "## read Parquet file"
   ]
  },
  {
   "cell_type": "code",
   "execution_count": 12,
   "metadata": {},
   "outputs": [
    {
     "name": "stdout",
     "output_type": "stream",
     "text": [
      "CPU times: user 1.72 s, sys: 640 ms, total: 2.36 s\n",
      "Wall time: 2.37 s\n",
      "ArrowLoaf\n",
      "8,808,095 x 6\n",
      "nconst: string\n",
      "primaryName: string\n",
      "birthYear: double\n",
      "deathYear: double\n",
      "primaryProfession: string\n",
      "knownForTitles: string\n"
     ]
    }
   ],
   "source": [
    "%time bigdata = ArrowLoaf.read(INPATH)\n",
    "print(bigdata)"
   ]
  },
  {
   "cell_type": "code",
   "execution_count": 13,
   "metadata": {},
   "outputs": [
    {
     "data": {
      "text/html": [
       "<div>\n",
       "<style scoped>\n",
       "    .dataframe tbody tr th:only-of-type {\n",
       "        vertical-align: middle;\n",
       "    }\n",
       "\n",
       "    .dataframe tbody tr th {\n",
       "        vertical-align: top;\n",
       "    }\n",
       "\n",
       "    .dataframe thead th {\n",
       "        text-align: right;\n",
       "    }\n",
       "</style>\n",
       "<table border=\"1\" class=\"dataframe\">\n",
       "  <thead>\n",
       "    <tr style=\"text-align: right;\">\n",
       "      <th></th>\n",
       "      <th>nconst</th>\n",
       "      <th>primaryName</th>\n",
       "      <th>birthYear</th>\n",
       "      <th>deathYear</th>\n",
       "      <th>primaryProfession</th>\n",
       "      <th>knownForTitles</th>\n",
       "    </tr>\n",
       "  </thead>\n",
       "  <tbody>\n",
       "    <tr>\n",
       "      <th>0</th>\n",
       "      <td>nm0000001</td>\n",
       "      <td>Fred Astaire</td>\n",
       "      <td>1899.0</td>\n",
       "      <td>1987.0</td>\n",
       "      <td>soundtrack,actor,miscellaneous</td>\n",
       "      <td>tt0072308,tt0043044,tt0050419,tt0053137</td>\n",
       "    </tr>\n",
       "    <tr>\n",
       "      <th>1</th>\n",
       "      <td>nm0000002</td>\n",
       "      <td>Lauren Bacall</td>\n",
       "      <td>1924.0</td>\n",
       "      <td>2014.0</td>\n",
       "      <td>actress,soundtrack</td>\n",
       "      <td>tt0038355,tt0117057,tt0037382,tt0071877</td>\n",
       "    </tr>\n",
       "    <tr>\n",
       "      <th>2</th>\n",
       "      <td>nm0000003</td>\n",
       "      <td>Brigitte Bardot</td>\n",
       "      <td>1934.0</td>\n",
       "      <td>NaN</td>\n",
       "      <td>actress,soundtrack,producer</td>\n",
       "      <td>tt0054452,tt0057345,tt0059956,tt0049189</td>\n",
       "    </tr>\n",
       "    <tr>\n",
       "      <th>3</th>\n",
       "      <td>nm0000004</td>\n",
       "      <td>John Belushi</td>\n",
       "      <td>1949.0</td>\n",
       "      <td>1982.0</td>\n",
       "      <td>actor,writer,soundtrack</td>\n",
       "      <td>tt0078723,tt0080455,tt0072562,tt0077975</td>\n",
       "    </tr>\n",
       "    <tr>\n",
       "      <th>4</th>\n",
       "      <td>nm0000005</td>\n",
       "      <td>Ingmar Bergman</td>\n",
       "      <td>1918.0</td>\n",
       "      <td>2007.0</td>\n",
       "      <td>writer,director,actor</td>\n",
       "      <td>tt0060827,tt0083922,tt0050986,tt0050976</td>\n",
       "    </tr>\n",
       "  </tbody>\n",
       "</table>\n",
       "</div>"
      ],
      "text/plain": [
       "      nconst      primaryName  birthYear  deathYear  \\\n",
       "0  nm0000001     Fred Astaire     1899.0     1987.0   \n",
       "1  nm0000002    Lauren Bacall     1924.0     2014.0   \n",
       "2  nm0000003  Brigitte Bardot     1934.0        NaN   \n",
       "3  nm0000004     John Belushi     1949.0     1982.0   \n",
       "4  nm0000005   Ingmar Bergman     1918.0     2007.0   \n",
       "\n",
       "                primaryProfession                           knownForTitles  \n",
       "0  soundtrack,actor,miscellaneous  tt0072308,tt0043044,tt0050419,tt0053137  \n",
       "1              actress,soundtrack  tt0038355,tt0117057,tt0037382,tt0071877  \n",
       "2     actress,soundtrack,producer  tt0054452,tt0057345,tt0059956,tt0049189  \n",
       "3         actor,writer,soundtrack  tt0078723,tt0080455,tt0072562,tt0077975  \n",
       "4           writer,director,actor  tt0060827,tt0083922,tt0050986,tt0050976  "
      ]
     },
     "execution_count": 13,
     "metadata": {},
     "output_type": "execute_result"
    }
   ],
   "source": [
    "bigdata.head()"
   ]
  },
  {
   "cell_type": "markdown",
   "metadata": {},
   "source": [
    "## save Parquet file"
   ]
  },
  {
   "cell_type": "code",
   "execution_count": 14,
   "metadata": {},
   "outputs": [
    {
     "name": "stdout",
     "output_type": "stream",
     "text": [
      "CPU times: user 3.41 s, sys: 500 ms, total: 3.91 s\n",
      "Wall time: 6.14 s\n"
     ]
    }
   ],
   "source": [
    "%time bigdata.save(OUTPATH)\n",
    "assert bigdata == ArrowLoaf.read(OUTPATH)"
   ]
  },
  {
   "cell_type": "markdown",
   "metadata": {},
   "source": [
    "## concatenate Parquet files"
   ]
  },
  {
   "cell_type": "code",
   "execution_count": 15,
   "metadata": {},
   "outputs": [
    {
     "name": "stdout",
     "output_type": "stream",
     "text": [
      "CPU times: user 640 ms, sys: 100 ms, total: 740 ms\n",
      "Wall time: 746 ms\n",
      "ArrowLoaf\n",
      "3,000,000 x 6\n",
      "nconst: string\n",
      "primaryName: string\n",
      "birthYear: double\n",
      "deathYear: double\n",
      "primaryProfession: string\n",
      "knownForTitles: string\n"
     ]
    }
   ],
   "source": [
    "paths = map(\"{}.parquet\".format,range(3))\n",
    "paths = [ CHUNKS/x for x in paths ]\n",
    "\n",
    "%time catloaf = ArrowLoaf.cat(paths)\n",
    "print(catloaf)"
   ]
  },
  {
   "cell_type": "markdown",
   "metadata": {},
   "source": [
    "## generate DataFrames"
   ]
  },
  {
   "cell_type": "code",
   "execution_count": 16,
   "metadata": {},
   "outputs": [
    {
     "name": "stdout",
     "output_type": "stream",
     "text": [
      "Help on function chunks in module arrowloaf:\n",
      "\n",
      "chunks(self, chunksize=1000000)\n",
      "    Generate Dataframes with limited maximum row count.\n",
      "\n"
     ]
    }
   ],
   "source": [
    "help(ArrowLoaf.chunks)"
   ]
  },
  {
   "cell_type": "code",
   "execution_count": 17,
   "metadata": {},
   "outputs": [
    {
     "name": "stdout",
     "output_type": "stream",
     "text": [
      "<class 'pandas.core.frame.DataFrame'> with 1,000,000 rows\n",
      "<class 'pandas.core.frame.DataFrame'> with 1,000,000 rows\n",
      "<class 'pandas.core.frame.DataFrame'> with 1,000,000 rows\n",
      "<class 'pandas.core.frame.DataFrame'> with 1,000,000 rows\n",
      "<class 'pandas.core.frame.DataFrame'> with 1,000,000 rows\n",
      "<class 'pandas.core.frame.DataFrame'> with 1,000,000 rows\n",
      "<class 'pandas.core.frame.DataFrame'> with 1,000,000 rows\n",
      "<class 'pandas.core.frame.DataFrame'> with 1,000,000 rows\n",
      "<class 'pandas.core.frame.DataFrame'> with 808,095 rows\n",
      "CPU times: user 2.81 s, sys: 680 ms, total: 3.49 s\n",
      "Wall time: 3.45 s\n"
     ]
    }
   ],
   "source": [
    "%%time\n",
    "msg = \"{} with {:,} rows\".format\n",
    "for df in bigdata.chunks(1_000_000):\n",
    "    print(msg(type(df),len(df)))"
   ]
  },
  {
   "cell_type": "markdown",
   "metadata": {},
   "source": [
    "## filter columns"
   ]
  },
  {
   "cell_type": "code",
   "execution_count": 18,
   "metadata": {},
   "outputs": [
    {
     "name": "stdout",
     "output_type": "stream",
     "text": [
      "Help on function select in module arrowloaf:\n",
      "\n",
      "select(self, columns)\n",
      "    ArrowLoaf: Selected columns in selected order.\n",
      "\n"
     ]
    }
   ],
   "source": [
    "help(ArrowLoaf.select)"
   ]
  },
  {
   "cell_type": "code",
   "execution_count": 19,
   "metadata": {},
   "outputs": [
    {
     "name": "stdout",
     "output_type": "stream",
     "text": [
      "CPU times: user 10 ms, sys: 0 ns, total: 10 ms\n",
      "Wall time: 1.77 ms\n"
     ]
    },
    {
     "data": {
      "text/html": [
       "<div>\n",
       "<style scoped>\n",
       "    .dataframe tbody tr th:only-of-type {\n",
       "        vertical-align: middle;\n",
       "    }\n",
       "\n",
       "    .dataframe tbody tr th {\n",
       "        vertical-align: top;\n",
       "    }\n",
       "\n",
       "    .dataframe thead th {\n",
       "        text-align: right;\n",
       "    }\n",
       "</style>\n",
       "<table border=\"1\" class=\"dataframe\">\n",
       "  <thead>\n",
       "    <tr style=\"text-align: right;\">\n",
       "      <th></th>\n",
       "      <th>primaryName</th>\n",
       "      <th>birthYear</th>\n",
       "      <th>primaryProfession</th>\n",
       "    </tr>\n",
       "  </thead>\n",
       "  <tbody>\n",
       "    <tr>\n",
       "      <th>0</th>\n",
       "      <td>Fred Astaire</td>\n",
       "      <td>1899.0</td>\n",
       "      <td>soundtrack,actor,miscellaneous</td>\n",
       "    </tr>\n",
       "    <tr>\n",
       "      <th>1</th>\n",
       "      <td>Lauren Bacall</td>\n",
       "      <td>1924.0</td>\n",
       "      <td>actress,soundtrack</td>\n",
       "    </tr>\n",
       "    <tr>\n",
       "      <th>2</th>\n",
       "      <td>Brigitte Bardot</td>\n",
       "      <td>1934.0</td>\n",
       "      <td>actress,soundtrack,producer</td>\n",
       "    </tr>\n",
       "    <tr>\n",
       "      <th>3</th>\n",
       "      <td>John Belushi</td>\n",
       "      <td>1949.0</td>\n",
       "      <td>actor,writer,soundtrack</td>\n",
       "    </tr>\n",
       "    <tr>\n",
       "      <th>4</th>\n",
       "      <td>Ingmar Bergman</td>\n",
       "      <td>1918.0</td>\n",
       "      <td>writer,director,actor</td>\n",
       "    </tr>\n",
       "  </tbody>\n",
       "</table>\n",
       "</div>"
      ],
      "text/plain": [
       "       primaryName  birthYear               primaryProfession\n",
       "0     Fred Astaire     1899.0  soundtrack,actor,miscellaneous\n",
       "1    Lauren Bacall     1924.0              actress,soundtrack\n",
       "2  Brigitte Bardot     1934.0     actress,soundtrack,producer\n",
       "3     John Belushi     1949.0         actor,writer,soundtrack\n",
       "4   Ingmar Bergman     1918.0           writer,director,actor"
      ]
     },
     "execution_count": 19,
     "metadata": {},
     "output_type": "execute_result"
    }
   ],
   "source": [
    "cols = ['primaryName','birthYear','primaryProfession']\n",
    "%time bigdata.select(cols).head()"
   ]
  },
  {
   "cell_type": "markdown",
   "metadata": {},
   "source": [
    "## filter rows"
   ]
  },
  {
   "cell_type": "code",
   "execution_count": 20,
   "metadata": {},
   "outputs": [
    {
     "name": "stdout",
     "output_type": "stream",
     "text": [
      "Help on function loaf in module arrowloaf:\n",
      "\n",
      "loaf(self, func, chunksize=1000000)\n",
      "    ArrowLoaf: Generate DataFrames. Apply function to each frame.\n",
      "    Loaf results together. Function must not change table schema.\n",
      "\n"
     ]
    }
   ],
   "source": [
    "help(ArrowLoaf.loaf)"
   ]
  },
  {
   "cell_type": "code",
   "execution_count": 21,
   "metadata": {},
   "outputs": [
    {
     "name": "stdout",
     "output_type": "stream",
     "text": [
      "CPU times: user 3.35 s, sys: 130 ms, total: 3.48 s\n",
      "Wall time: 3.4 s\n"
     ]
    },
    {
     "data": {
      "text/html": [
       "<div>\n",
       "<style scoped>\n",
       "    .dataframe tbody tr th:only-of-type {\n",
       "        vertical-align: middle;\n",
       "    }\n",
       "\n",
       "    .dataframe tbody tr th {\n",
       "        vertical-align: top;\n",
       "    }\n",
       "\n",
       "    .dataframe thead th {\n",
       "        text-align: right;\n",
       "    }\n",
       "</style>\n",
       "<table border=\"1\" class=\"dataframe\">\n",
       "  <thead>\n",
       "    <tr style=\"text-align: right;\">\n",
       "      <th></th>\n",
       "      <th>nconst</th>\n",
       "      <th>primaryName</th>\n",
       "      <th>birthYear</th>\n",
       "      <th>deathYear</th>\n",
       "      <th>primaryProfession</th>\n",
       "      <th>knownForTitles</th>\n",
       "    </tr>\n",
       "  </thead>\n",
       "  <tbody>\n",
       "    <tr>\n",
       "      <th>0</th>\n",
       "      <td>nm9082621</td>\n",
       "      <td>Joe Gill</td>\n",
       "      <td>1919.0</td>\n",
       "      <td>2006.0</td>\n",
       "      <td>writer</td>\n",
       "      <td>tt1641384,tt2820466,tt6025022,tt6556890</td>\n",
       "    </tr>\n",
       "    <tr>\n",
       "      <th>1</th>\n",
       "      <td>nm9091356</td>\n",
       "      <td>Ersilio Tonini</td>\n",
       "      <td>1914.0</td>\n",
       "      <td>2013.0</td>\n",
       "      <td>None</td>\n",
       "      <td>tt4456688</td>\n",
       "    </tr>\n",
       "    <tr>\n",
       "      <th>2</th>\n",
       "      <td>nm9101175</td>\n",
       "      <td>Valeriya Gerasimova</td>\n",
       "      <td>1903.0</td>\n",
       "      <td>NaN</td>\n",
       "      <td>writer</td>\n",
       "      <td>tt7084996</td>\n",
       "    </tr>\n",
       "    <tr>\n",
       "      <th>3</th>\n",
       "      <td>nm9102000</td>\n",
       "      <td>Lincoln Borglum</td>\n",
       "      <td>1912.0</td>\n",
       "      <td>1986.0</td>\n",
       "      <td>None</td>\n",
       "      <td>tt0048907</td>\n",
       "    </tr>\n",
       "    <tr>\n",
       "      <th>4</th>\n",
       "      <td>nm9109707</td>\n",
       "      <td>Gianfranco Miglio</td>\n",
       "      <td>1918.0</td>\n",
       "      <td>2001.0</td>\n",
       "      <td>None</td>\n",
       "      <td>tt4456688</td>\n",
       "    </tr>\n",
       "  </tbody>\n",
       "</table>\n",
       "</div>"
      ],
      "text/plain": [
       "      nconst          primaryName  birthYear  deathYear primaryProfession  \\\n",
       "0  nm9082621             Joe Gill     1919.0     2006.0            writer   \n",
       "1  nm9091356       Ersilio Tonini     1914.0     2013.0              None   \n",
       "2  nm9101175  Valeriya Gerasimova     1903.0        NaN            writer   \n",
       "3  nm9102000      Lincoln Borglum     1912.0     1986.0              None   \n",
       "4  nm9109707    Gianfranco Miglio     1918.0     2001.0              None   \n",
       "\n",
       "                            knownForTitles  \n",
       "0  tt1641384,tt2820466,tt6025022,tt6556890  \n",
       "1                                tt4456688  \n",
       "2                                tt7084996  \n",
       "3                                tt0048907  \n",
       "4                                tt4456688  "
      ]
     },
     "execution_count": 21,
     "metadata": {},
     "output_type": "execute_result"
    }
   ],
   "source": [
    "def classic(df):\n",
    "    return df.query('birthYear < 1920')\n",
    "\n",
    "%time bigdata.loaf(classic).head()"
   ]
  },
  {
   "cell_type": "code",
   "execution_count": 22,
   "metadata": {},
   "outputs": [
    {
     "name": "stdout",
     "output_type": "stream",
     "text": [
      "CPU times: user 7.33 s, sys: 580 ms, total: 7.91 s\n",
      "Wall time: 7.9 s\n"
     ]
    },
    {
     "data": {
      "text/plain": [
       "1537"
      ]
     },
     "execution_count": 22,
     "metadata": {},
     "output_type": "execute_result"
    }
   ],
   "source": [
    "def baldwins(df):\n",
    "    hasname = df['primaryName'].str.contains\n",
    "    return df.loc[hasname('Baldwin')]\n",
    "\n",
    "%time len(bigdata.loaf(baldwins))"
   ]
  }
 ],
 "metadata": {
  "kernelspec": {
   "display_name": "Python 3",
   "language": "python",
   "name": "python3"
  },
  "language_info": {
   "codemirror_mode": {
    "name": "ipython",
    "version": 3
   },
   "file_extension": ".py",
   "mimetype": "text/x-python",
   "name": "python",
   "nbconvert_exporter": "python",
   "pygments_lexer": "ipython3",
   "version": "3.6.5"
  }
 },
 "nbformat": 4,
 "nbformat_minor": 2
}
